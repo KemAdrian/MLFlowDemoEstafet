{
 "cells": [
  {
   "cell_type": "markdown",
   "metadata": {},
   "source": [
    "# Deploying a Model\n",
    "## Selecting Model\n",
    "Once an optimal model has been selected, we can use MLFlow to deploy it, and allow external users to take advantage of our training by using the model as a service. We call this process 'serving'. MLFlow can serve models as REST APIs, and in our case users will be able to send their wine sample and get back the quality of their wine."
   ]
  },
  {
   "cell_type": "code",
   "execution_count": 1,
   "metadata": {},
   "outputs": [],
   "source": [
    "# Enter the id of the model that we chose in the mlflow UI\n",
    "chosen_model_id = 'bfcca2a7367347bebb3fa30f16b62623'"
   ]
  },
  {
   "cell_type": "markdown",
   "metadata": {},
   "source": [
    "## Serve model\n",
    "In order to serve the model with MLFlow, we will have to execute a command in our terminal. This command specifies the path to our mode, the ip address of our server and the port on which we will communicate with external users."
   ]
  },
  {
   "cell_type": "code",
   "execution_count": 2,
   "metadata": {},
   "outputs": [
    {
     "data": {
      "text/plain": [
       "'192.168.0.115'"
      ]
     },
     "execution_count": 2,
     "metadata": {},
     "output_type": "execute_result"
    }
   ],
   "source": [
    "# Find IP address\n",
    "import socket\n",
    "ip = socket.gethostbyname(socket.gethostname())\n",
    "ip"
   ]
  },
  {
   "cell_type": "code",
   "execution_count": 3,
   "metadata": {},
   "outputs": [
    {
     "data": {
      "text/plain": [
       "'mlflow models serve -m mlruns/0/bfcca2a7367347bebb3fa30f16b62623/artifacts/model -h 192.168.0.115 -p 1234'"
      ]
     },
     "execution_count": 3,
     "metadata": {},
     "output_type": "execute_result"
    }
   ],
   "source": [
    "# Serve the model on port 1234 (enabled in Windows Firewall)\n",
    "command = 'mlflow models serve -m mlruns/0/'+chosen_model_id+'/artifacts/model -h '+ip+' -p 1234'\n",
    "command"
   ]
  },
  {
   "cell_type": "markdown",
   "metadata": {},
   "source": [
    "## Test the serving\n",
    "Once the model is served, we can test it through REST API invocation. We need to specify in the header the format of our input (a pandas dataframe serialized in json), and in the body the data that we send (a dataframe with 1 line and 11 column, representing our wine sample)."
   ]
  },
  {
   "cell_type": "code",
   "execution_count": 4,
   "metadata": {},
   "outputs": [],
   "source": [
    "# Since I am using a router, I will test the query with my external ip address\n",
    "external_ip = '94.155.120.231'"
   ]
  },
  {
   "cell_type": "code",
   "execution_count": 5,
   "metadata": {},
   "outputs": [
    {
     "name": "stdout",
     "output_type": "stream",
     "text": [
      "curl -X POST -H \"Content-Type:application/json; format=pandas-split\" --data '{\"columns\":[\"alcohol\", \"chlorides\", \"citric acid\", \"density\", \"fixed acidity\", \"free sulfur dioxide\", \"pH\", \"residual sugar\", \"sulphates\", \"total sulfur dioxide\", \"volatile acidity\"],\"data\":[[12.8, 0.029, 0.48, 0.98, 6.2, 29, 3.33, 1.2, 0.39, 75, 0.66]]}' http://94.155.120.231:1234/invocations\n"
     ]
    }
   ],
   "source": [
    "query = '''curl -X POST -H \"Content-Type:application/json; format=pandas-split\" --data '{\"columns\":[\"alcohol\", \"chlorides\", \"citric acid\", \"density\", \"fixed acidity\", \"free sulfur dioxide\", \"pH\", \"residual sugar\", \"sulphates\", \"total sulfur dioxide\", \"volatile acidity\"],\"data\":[[12.8, 0.029, 0.48, 0.98, 6.2, 29, 3.33, 1.2, 0.39, 75, 0.66]]}' http://'''+external_ip+''':1234/invocations'''\n",
    "print(query)"
   ]
  },
  {
   "cell_type": "code",
   "execution_count": null,
   "metadata": {},
   "outputs": [],
   "source": []
  }
 ],
 "metadata": {
  "kernelspec": {
   "display_name": "Python 3",
   "language": "python",
   "name": "python3"
  },
  "language_info": {
   "codemirror_mode": {
    "name": "ipython",
    "version": 3
   },
   "file_extension": ".py",
   "mimetype": "text/x-python",
   "name": "python",
   "nbconvert_exporter": "python",
   "pygments_lexer": "ipython3",
   "version": "3.8.3"
  }
 },
 "nbformat": 4,
 "nbformat_minor": 4
}
